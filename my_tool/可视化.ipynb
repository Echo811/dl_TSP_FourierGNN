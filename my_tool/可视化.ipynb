{
 "cells": [
  {
   "cell_type": "code",
   "execution_count": 4,
   "metadata": {
    "collapsed": true
   },
   "outputs": [
    {
     "data": {
      "text/plain": "((3, 56, 16), (3, 56, 16))"
     },
     "execution_count": 4,
     "metadata": {},
     "output_type": "execute_result"
    }
   ],
   "source": [
    "import pickle\n",
    "\n",
    "# 反序列化对象\n",
    "with open('./obj/pre_val.txt', 'rb') as exp_f:\n",
    "    # 使用pickle.load反序列化对象\n",
    "    pre_val = pickle.load(exp_f)\n",
    "with open('./obj/true_val.txt', 'rb') as exp_f:\n",
    "    # 使用pickle.load反序列化对象\n",
    "    true_val = pickle.load(exp_f)\n",
    "pre_val.shape, true_val.shape"
   ]
  },
  {
   "cell_type": "code",
   "execution_count": null,
   "outputs": [],
   "source": [],
   "metadata": {
    "collapsed": false
   }
  }
 ],
 "metadata": {
  "kernelspec": {
   "display_name": "Python 3",
   "language": "python",
   "name": "python3"
  },
  "language_info": {
   "codemirror_mode": {
    "name": "ipython",
    "version": 2
   },
   "file_extension": ".py",
   "mimetype": "text/x-python",
   "name": "python",
   "nbconvert_exporter": "python",
   "pygments_lexer": "ipython2",
   "version": "2.7.6"
  }
 },
 "nbformat": 4,
 "nbformat_minor": 0
}
